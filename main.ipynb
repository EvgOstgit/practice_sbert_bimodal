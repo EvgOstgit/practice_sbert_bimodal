{
 "cells": [
  {
   "cell_type": "markdown",
   "id": "6698f6a3",
   "metadata": {},
   "source": [
    "# Бимодальные нейросети"
   ]
  }
 ],
 "metadata": {
  "language_info": {
   "name": "python"
  }
 },
 "nbformat": 4,
 "nbformat_minor": 5
}
