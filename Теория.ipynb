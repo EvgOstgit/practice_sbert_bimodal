{
 "cells": [
  {
   "cell_type": "markdown",
   "id": "6698f6a3",
   "metadata": {},
   "source": [
    "# Бимодальные модели"
   ]
  },
  {
   "cell_type": "markdown",
   "id": "09027739",
   "metadata": {},
   "source": [
    "## 1. Что такое бимодальные модели"
   ]
  },
  {
   "cell_type": "markdown",
   "id": "07e2b86b",
   "metadata": {},
   "source": [
    "### 1.1 Что такое модальность?\n",
    "\n",
    "**Модальность** - это тип данных, несущий информацию определенным способом.\n",
    "\n",
    "Примеры модальностей:\n",
    "- **Текст** - слова, предложения, статьи\n",
    "- **Изображения** - пиксели, RGB-значения\n",
    "- **Аудио** - волны, спектрограммы\n",
    "- **Видео** - последовательность изображений + звук"
   ]
  },
  {
   "cell_type": "markdown",
   "id": "78d36eb0",
   "metadata": {},
   "source": [
    "### 1.2 Модели: одно- vs мультимодальные"
   ]
  },
  {
   "cell_type": "code",
   "execution_count": 8,
   "id": "2f26a595",
   "metadata": {},
   "outputs": [
    {
     "data": {
      "text/html": [
       "<style type=\"text/css\">\n",
       "#T_3e7ee th {\n",
       "  text-align: left;\n",
       "}\n",
       "#T_3e7ee td {\n",
       "  text-align: left;\n",
       "}\n",
       "</style>\n",
       "<table id=\"T_3e7ee\">\n",
       "  <thead>\n",
       "    <tr>\n",
       "      <th class=\"blank level0\" >&nbsp;</th>\n",
       "      <th id=\"T_3e7ee_level0_col0\" class=\"col_heading level0 col0\" >Тип модели</th>\n",
       "      <th id=\"T_3e7ee_level0_col1\" class=\"col_heading level0 col1\" >Что обрабатывает</th>\n",
       "    </tr>\n",
       "  </thead>\n",
       "  <tbody>\n",
       "    <tr>\n",
       "      <th id=\"T_3e7ee_level0_row0\" class=\"row_heading level0 row0\" >0</th>\n",
       "      <td id=\"T_3e7ee_row0_col0\" class=\"data row0 col0\" >Одномодальная</td>\n",
       "      <td id=\"T_3e7ee_row0_col1\" class=\"data row0 col1\" >Только одну модальность (например, только текст)</td>\n",
       "    </tr>\n",
       "    <tr>\n",
       "      <th id=\"T_3e7ee_level0_row1\" class=\"row_heading level0 row1\" >1</th>\n",
       "      <td id=\"T_3e7ee_row1_col0\" class=\"data row1 col0\" >Мультимодальная</td>\n",
       "      <td id=\"T_3e7ee_row1_col1\" class=\"data row1 col1\" >Две или больше модальностей (например, текст + изображение)</td>\n",
       "    </tr>\n",
       "  </tbody>\n",
       "</table>\n"
      ],
      "text/plain": [
       "<pandas.io.formats.style.Styler at 0x223024c9f90>"
      ]
     },
     "execution_count": 8,
     "metadata": {},
     "output_type": "execute_result"
    }
   ],
   "source": [
    "# скриптик для вывода красивой таблички\n",
    "import pandas as pd\n",
    "\n",
    "pd.set_option('display.max_colwidth', None)\n",
    "\n",
    "df = pd.DataFrame({'Тип модели': ['Одномодальная',\n",
    "                                  'Мультимодальная'],\n",
    "                   'Что обрабатывает': ['Только одну модальность (например, только текст)',\n",
    "                                        'Две или больше модальностей (например, текст + изображение)']\n",
    "                                        })\n",
    "df.style.set_table_styles([\n",
    "    {'selector': 'th', 'props': [('text-align', 'left')]},  # Заголовки\n",
    "    {'selector': 'td', 'props': [('text-align', 'left')]}   # Ячейки\n",
    "])"
   ]
  },
  {
   "cell_type": "markdown",
   "id": "31ecfc50",
   "metadata": {},
   "source": [
    "**Бимодальная модель** - частный случай мультимодальной: она объединяет ровно две модальности, чаще всего:\n",
    "- Текст\n",
    "- Изображение"
   ]
  },
  {
   "cell_type": "markdown",
   "id": "8aa9de79",
   "metadata": {},
   "source": [
    "## 2. Как работают бимодальные модели"
   ]
  },
  {
   "cell_type": "markdown",
   "id": "6571ff3c",
   "metadata": {},
   "source": [
    "### 2.1 Общее векторное пространство\n",
    "Нужно, чтобы модель:\n",
    "- Преобразовывала текст и изображения в векторные представления (эмбеддинги)\n",
    "- Эти векторы находились в одном векторном пространстве, имели одну размерность\n",
    "Такое векторное пространство называется совместным (**joint embedding space**)"
   ]
  },
  {
   "cell_type": "markdown",
   "id": "304597f4",
   "metadata": {},
   "source": [
    "### 2.2 Компоненты бимодальной модели"
   ]
  },
  {
   "cell_type": "code",
   "execution_count": 7,
   "id": "cacb2022",
   "metadata": {},
   "outputs": [
    {
     "data": {
      "text/html": [
       "<style type=\"text/css\">\n",
       "#T_a91fd th {\n",
       "  text-align: left;\n",
       "}\n",
       "#T_a91fd td {\n",
       "  text-align: left;\n",
       "}\n",
       "</style>\n",
       "<table id=\"T_a91fd\">\n",
       "  <thead>\n",
       "    <tr>\n",
       "      <th class=\"blank level0\" >&nbsp;</th>\n",
       "      <th id=\"T_a91fd_level0_col0\" class=\"col_heading level0 col0\" >Компонент</th>\n",
       "      <th id=\"T_a91fd_level0_col1\" class=\"col_heading level0 col1\" >Что делает</th>\n",
       "    </tr>\n",
       "  </thead>\n",
       "  <tbody>\n",
       "    <tr>\n",
       "      <th id=\"T_a91fd_level0_row0\" class=\"row_heading level0 row0\" >0</th>\n",
       "      <td id=\"T_a91fd_row0_col0\" class=\"data row0 col0\" >Текстовый энкодер</td>\n",
       "      <td id=\"T_a91fd_row0_col1\" class=\"data row0 col1\" >Преобразует текст в вектор</td>\n",
       "    </tr>\n",
       "    <tr>\n",
       "      <th id=\"T_a91fd_level0_row1\" class=\"row_heading level0 row1\" >1</th>\n",
       "      <td id=\"T_a91fd_row1_col0\" class=\"data row1 col0\" >Визуальный энкодер</td>\n",
       "      <td id=\"T_a91fd_row1_col1\" class=\"data row1 col1\" >Преобразует изображение в вектор</td>\n",
       "    </tr>\n",
       "    <tr>\n",
       "      <th id=\"T_a91fd_level0_row2\" class=\"row_heading level0 row2\" >2</th>\n",
       "      <td id=\"T_a91fd_row2_col0\" class=\"data row2 col0\" >Обучение (loss)</td>\n",
       "      <td id=\"T_a91fd_row2_col1\" class=\"data row2 col1\" >Делает так, чтобы текст и картинка \"сходились\", если они относятся к одному смыслу</td>\n",
       "    </tr>\n",
       "  </tbody>\n",
       "</table>\n"
      ],
      "text/plain": [
       "<pandas.io.formats.style.Styler at 0x223024c9a90>"
      ]
     },
     "execution_count": 7,
     "metadata": {},
     "output_type": "execute_result"
    }
   ],
   "source": [
    "df = pd.DataFrame({\n",
    "    'Компонент': ['Текстовый энкодер', 'Визуальный энкодер', 'Обучение (loss)'],\n",
    "    'Что делает': [\n",
    "        'Преобразует текст в вектор',\n",
    "        'Преобразует изображение в вектор',\n",
    "        'Делает так, чтобы текст и картинка \"сходились\", если они относятся к одному смыслу'\n",
    "    ]\n",
    "})\n",
    "df.style.set_table_styles([\n",
    "    {'selector': 'th', 'props': [('text-align', 'left')]},  # Заголовки\n",
    "    {'selector': 'td', 'props': [('text-align', 'left')]}   # Ячейки\n",
    "])"
   ]
  },
  {
   "cell_type": "markdown",
   "id": "3de75a23",
   "metadata": {},
   "source": [
    "### 2.3 Эмбеддинги\n",
    "**Эмбеддинг** - это вектор (набор чисел), который отражает смысл входных данных.\n",
    "Если смысловое содержание текста и картинки схоже, то их эмбеддинги должны быть близки по косинусной мере (расстояние между векторами должно быть небольшим)."
   ]
  },
  {
   "cell_type": "markdown",
   "id": "8e1a1b1c",
   "metadata": {},
   "source": []
  }
 ],
 "metadata": {
  "kernelspec": {
   "display_name": "Python 3",
   "language": "python",
   "name": "python3"
  },
  "language_info": {
   "codemirror_mode": {
    "name": "ipython",
    "version": 3
   },
   "file_extension": ".py",
   "mimetype": "text/x-python",
   "name": "python",
   "nbconvert_exporter": "python",
   "pygments_lexer": "ipython3",
   "version": "3.13.3"
  }
 },
 "nbformat": 4,
 "nbformat_minor": 5
}
