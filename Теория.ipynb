{
 "cells": [
  {
   "cell_type": "markdown",
   "id": "6698f6a3",
   "metadata": {},
   "source": [
    "# Бимодальные модели"
   ]
  },
  {
   "cell_type": "markdown",
   "id": "09027739",
   "metadata": {},
   "source": [
    "## 1. Что такое бимодальные модели"
   ]
  },
  {
   "cell_type": "markdown",
   "id": "07e2b86b",
   "metadata": {},
   "source": [
    "### 1.1 Что такое модальность?\n",
    "\n",
    "**Модальность** - это тип данных, несущий информацию определенным способом.\n",
    "\n",
    "Примеры модальностей:\n",
    "- **Текст** - слова, предложения, статьи\n",
    "- **Изображения** - пиксели, RGB-значения\n",
    "- **Аудио** - волны, спектрограммы\n",
    "- **Видео** - последовательность изображений + звук"
   ]
  },
  {
   "cell_type": "markdown",
   "id": "78d36eb0",
   "metadata": {},
   "source": [
    "### 1.2 Модели: одно- vs мультимодальные"
   ]
  },
  {
   "cell_type": "code",
   "execution_count": 25,
   "id": "2f26a595",
   "metadata": {},
   "outputs": [
    {
     "data": {
      "text/html": [
       "<style type=\"text/css\">\n",
       "#T_57788_row0_col0, #T_57788_row0_col1, #T_57788_row1_col0, #T_57788_row1_col1 {\n",
       "  text-align: left;\n",
       "  white-space: pre-wrap;\n",
       "}\n",
       "</style>\n",
       "<table id=\"T_57788\">\n",
       "  <thead>\n",
       "    <tr>\n",
       "      <th class=\"blank level0\" >&nbsp;</th>\n",
       "      <th id=\"T_57788_level0_col0\" class=\"col_heading level0 col0\" >Тип модели</th>\n",
       "      <th id=\"T_57788_level0_col1\" class=\"col_heading level0 col1\" >Что обрабатывает</th>\n",
       "    </tr>\n",
       "  </thead>\n",
       "  <tbody>\n",
       "    <tr>\n",
       "      <th id=\"T_57788_level0_row0\" class=\"row_heading level0 row0\" >0</th>\n",
       "      <td id=\"T_57788_row0_col0\" class=\"data row0 col0\" >Одномодальная</td>\n",
       "      <td id=\"T_57788_row0_col1\" class=\"data row0 col1\" >Только одну модальность (например, только текст)</td>\n",
       "    </tr>\n",
       "    <tr>\n",
       "      <th id=\"T_57788_level0_row1\" class=\"row_heading level0 row1\" >1</th>\n",
       "      <td id=\"T_57788_row1_col0\" class=\"data row1 col0\" >Мультимодальная</td>\n",
       "      <td id=\"T_57788_row1_col1\" class=\"data row1 col1\" >Две или больше модальностей (например, текст + изображение)</td>\n",
       "    </tr>\n",
       "  </tbody>\n",
       "</table>\n"
      ],
      "text/plain": [
       "<pandas.io.formats.style.Styler at 0x2a34a5a4cd0>"
      ]
     },
     "execution_count": 25,
     "metadata": {},
     "output_type": "execute_result"
    }
   ],
   "source": [
    "# скриптик для вывода красивой таблички\n",
    "import pandas as pd\n",
    "\n",
    "pd.set_option('display.max_colwidth', None)\n",
    "\n",
    "df = pd.DataFrame({'Тип модели': ['Одномодальная',\n",
    "                                  'Мультимодальная'],\n",
    "                   'Что обрабатывает': ['Только одну модальность (например, только текст)',\n",
    "                                        'Две или больше модальностей (например, текст + изображение)']\n",
    "                                        })\n",
    "df.style.set_properties(**{'text-align': 'left',\n",
    "                           'white-space': 'pre-wrap'})"
   ]
  },
  {
   "cell_type": "code",
   "execution_count": null,
   "id": "2fa2f87b",
   "metadata": {},
   "outputs": [],
   "source": []
  }
 ],
 "metadata": {
  "kernelspec": {
   "display_name": "Python 3",
   "language": "python",
   "name": "python3"
  },
  "language_info": {
   "codemirror_mode": {
    "name": "ipython",
    "version": 3
   },
   "file_extension": ".py",
   "mimetype": "text/x-python",
   "name": "python",
   "nbconvert_exporter": "python",
   "pygments_lexer": "ipython3",
   "version": "3.13.3"
  }
 },
 "nbformat": 4,
 "nbformat_minor": 5
}
